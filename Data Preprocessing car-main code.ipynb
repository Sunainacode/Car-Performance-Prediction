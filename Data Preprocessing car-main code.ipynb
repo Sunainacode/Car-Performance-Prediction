{
 "cells": [
  {
   "cell_type": "code",
   "execution_count": 1,
   "metadata": {},
   "outputs": [],
   "source": [
    "import pandas as pd\n",
    "import numpy as np\n",
    "import matplotlib.pyplot as plt "
   ]
  },
  {
   "cell_type": "code",
   "execution_count": 2,
   "metadata": {},
   "outputs": [],
   "source": [
    "datas = pd.read_csv('car performance-dataset.csv')"
   ]
  },
  {
   "cell_type": "code",
   "execution_count": 3,
   "metadata": {},
   "outputs": [
    {
     "data": {
      "text/plain": [
       "pandas.core.frame.DataFrame"
      ]
     },
     "execution_count": 3,
     "metadata": {},
     "output_type": "execute_result"
    }
   ],
   "source": [
    "type(datas)"
   ]
  },
  {
   "cell_type": "code",
   "execution_count": 4,
   "metadata": {},
   "outputs": [
    {
     "data": {
      "text/plain": [
       "mpg             False\n",
       "cylinders       False\n",
       "displacement    False\n",
       "horsepower      False\n",
       "weight          False\n",
       "acceleration    False\n",
       "model year      False\n",
       "origin          False\n",
       "car name        False\n",
       "dtype: bool"
      ]
     },
     "execution_count": 4,
     "metadata": {},
     "output_type": "execute_result"
    }
   ],
   "source": [
    "datas.isnull().any()"
   ]
  },
  {
   "cell_type": "code",
   "execution_count": 23,
   "metadata": {},
   "outputs": [],
   "source": [
    "from sklearn.preprocessing import LabelEncoder\n",
    "l = LabelEncoder()\n",
    "datas['car name'] = l.fit_transform(datas['car name'])"
   ]
  },
  {
   "cell_type": "code",
   "execution_count": 24,
   "metadata": {},
   "outputs": [
    {
     "data": {
      "text/html": [
       "<div>\n",
       "<style scoped>\n",
       "    .dataframe tbody tr th:only-of-type {\n",
       "        vertical-align: middle;\n",
       "    }\n",
       "\n",
       "    .dataframe tbody tr th {\n",
       "        vertical-align: top;\n",
       "    }\n",
       "\n",
       "    .dataframe thead th {\n",
       "        text-align: right;\n",
       "    }\n",
       "</style>\n",
       "<table border=\"1\" class=\"dataframe\">\n",
       "  <thead>\n",
       "    <tr style=\"text-align: right;\">\n",
       "      <th></th>\n",
       "      <th>mpg</th>\n",
       "      <th>cylinders</th>\n",
       "      <th>displacement</th>\n",
       "      <th>horsepower</th>\n",
       "      <th>weight</th>\n",
       "      <th>acceleration</th>\n",
       "      <th>model year</th>\n",
       "      <th>origin</th>\n",
       "      <th>car name</th>\n",
       "    </tr>\n",
       "  </thead>\n",
       "  <tbody>\n",
       "    <tr>\n",
       "      <th>0</th>\n",
       "      <td>18.0</td>\n",
       "      <td>8</td>\n",
       "      <td>307.0</td>\n",
       "      <td>130</td>\n",
       "      <td>3504</td>\n",
       "      <td>12.0</td>\n",
       "      <td>70</td>\n",
       "      <td>1</td>\n",
       "      <td>49</td>\n",
       "    </tr>\n",
       "    <tr>\n",
       "      <th>1</th>\n",
       "      <td>15.0</td>\n",
       "      <td>8</td>\n",
       "      <td>350.0</td>\n",
       "      <td>165</td>\n",
       "      <td>3693</td>\n",
       "      <td>11.5</td>\n",
       "      <td>70</td>\n",
       "      <td>1</td>\n",
       "      <td>36</td>\n",
       "    </tr>\n",
       "    <tr>\n",
       "      <th>2</th>\n",
       "      <td>18.0</td>\n",
       "      <td>8</td>\n",
       "      <td>318.0</td>\n",
       "      <td>150</td>\n",
       "      <td>3436</td>\n",
       "      <td>11.0</td>\n",
       "      <td>70</td>\n",
       "      <td>1</td>\n",
       "      <td>231</td>\n",
       "    </tr>\n",
       "    <tr>\n",
       "      <th>3</th>\n",
       "      <td>16.0</td>\n",
       "      <td>8</td>\n",
       "      <td>304.0</td>\n",
       "      <td>150</td>\n",
       "      <td>3433</td>\n",
       "      <td>12.0</td>\n",
       "      <td>70</td>\n",
       "      <td>1</td>\n",
       "      <td>14</td>\n",
       "    </tr>\n",
       "    <tr>\n",
       "      <th>4</th>\n",
       "      <td>17.0</td>\n",
       "      <td>8</td>\n",
       "      <td>302.0</td>\n",
       "      <td>140</td>\n",
       "      <td>3449</td>\n",
       "      <td>10.5</td>\n",
       "      <td>70</td>\n",
       "      <td>1</td>\n",
       "      <td>161</td>\n",
       "    </tr>\n",
       "    <tr>\n",
       "      <th>5</th>\n",
       "      <td>15.0</td>\n",
       "      <td>8</td>\n",
       "      <td>429.0</td>\n",
       "      <td>198</td>\n",
       "      <td>4341</td>\n",
       "      <td>10.0</td>\n",
       "      <td>70</td>\n",
       "      <td>1</td>\n",
       "      <td>141</td>\n",
       "    </tr>\n",
       "    <tr>\n",
       "      <th>6</th>\n",
       "      <td>14.0</td>\n",
       "      <td>8</td>\n",
       "      <td>454.0</td>\n",
       "      <td>220</td>\n",
       "      <td>4354</td>\n",
       "      <td>9.0</td>\n",
       "      <td>70</td>\n",
       "      <td>1</td>\n",
       "      <td>54</td>\n",
       "    </tr>\n",
       "    <tr>\n",
       "      <th>7</th>\n",
       "      <td>14.0</td>\n",
       "      <td>8</td>\n",
       "      <td>440.0</td>\n",
       "      <td>215</td>\n",
       "      <td>4312</td>\n",
       "      <td>8.5</td>\n",
       "      <td>70</td>\n",
       "      <td>1</td>\n",
       "      <td>223</td>\n",
       "    </tr>\n",
       "    <tr>\n",
       "      <th>8</th>\n",
       "      <td>14.0</td>\n",
       "      <td>8</td>\n",
       "      <td>455.0</td>\n",
       "      <td>225</td>\n",
       "      <td>4425</td>\n",
       "      <td>10.0</td>\n",
       "      <td>70</td>\n",
       "      <td>1</td>\n",
       "      <td>241</td>\n",
       "    </tr>\n",
       "    <tr>\n",
       "      <th>9</th>\n",
       "      <td>15.0</td>\n",
       "      <td>8</td>\n",
       "      <td>390.0</td>\n",
       "      <td>190</td>\n",
       "      <td>3850</td>\n",
       "      <td>8.5</td>\n",
       "      <td>70</td>\n",
       "      <td>1</td>\n",
       "      <td>1</td>\n",
       "    </tr>\n",
       "  </tbody>\n",
       "</table>\n",
       "</div>"
      ],
      "text/plain": [
       "    mpg  cylinders  displacement  horsepower  weight  acceleration  \\\n",
       "0  18.0          8         307.0         130    3504          12.0   \n",
       "1  15.0          8         350.0         165    3693          11.5   \n",
       "2  18.0          8         318.0         150    3436          11.0   \n",
       "3  16.0          8         304.0         150    3433          12.0   \n",
       "4  17.0          8         302.0         140    3449          10.5   \n",
       "5  15.0          8         429.0         198    4341          10.0   \n",
       "6  14.0          8         454.0         220    4354           9.0   \n",
       "7  14.0          8         440.0         215    4312           8.5   \n",
       "8  14.0          8         455.0         225    4425          10.0   \n",
       "9  15.0          8         390.0         190    3850           8.5   \n",
       "\n",
       "   model year  origin  car name  \n",
       "0          70       1        49  \n",
       "1          70       1        36  \n",
       "2          70       1       231  \n",
       "3          70       1        14  \n",
       "4          70       1       161  \n",
       "5          70       1       141  \n",
       "6          70       1        54  \n",
       "7          70       1       223  \n",
       "8          70       1       241  \n",
       "9          70       1         1  "
      ]
     },
     "execution_count": 24,
     "metadata": {},
     "output_type": "execute_result"
    }
   ],
   "source": [
    "datas.head(10)"
   ]
  },
  {
   "cell_type": "code",
   "execution_count": 25,
   "metadata": {},
   "outputs": [
    {
     "name": "stdout",
     "output_type": "stream",
     "text": [
      "<class 'pandas.core.frame.DataFrame'>\n",
      "RangeIndex: 398 entries, 0 to 397\n",
      "Data columns (total 9 columns):\n",
      " #   Column        Non-Null Count  Dtype  \n",
      "---  ------        --------------  -----  \n",
      " 0   mpg           398 non-null    float64\n",
      " 1   cylinders     398 non-null    int64  \n",
      " 2   displacement  398 non-null    float64\n",
      " 3   horsepower    398 non-null    int64  \n",
      " 4   weight        398 non-null    int64  \n",
      " 5   acceleration  398 non-null    float64\n",
      " 6   model year    398 non-null    int64  \n",
      " 7   origin        398 non-null    int64  \n",
      " 8   car name      398 non-null    int64  \n",
      "dtypes: float64(3), int64(6)\n",
      "memory usage: 28.1 KB\n"
     ]
    }
   ],
   "source": [
    "datas.info()"
   ]
  },
  {
   "cell_type": "code",
   "execution_count": 27,
   "metadata": {},
   "outputs": [
    {
     "data": {
      "text/plain": [
       "array([ 49,  36, 231,  14, 161, 141,  54, 223, 241,   1, 101, 215,  57,\n",
       "        30, 274, 220,   8, 150,  95, 282, 211,  16, 258,  22,   7, 133,\n",
       "        68, 112, 163,  65, 271, 156, 232, 162,  10, 242, 116, 129, 250,\n",
       "         9,  64, 243, 151, 187, 208, 210, 123, 267,  76, 286, 218, 272,\n",
       "       105, 293,  63, 158,   2, 192,  31, 203,  75, 183,  11,  48, 143,\n",
       "       233, 295, 283, 212, 253, 157,  85, 279, 104, 268,  25,  55, 142,\n",
       "       109, 193,  44, 148, 222,  74,  29,   0, 235,  62, 292, 128, 219,\n",
       "       207, 263,  87, 174, 188, 121,  59, 244, 124, 209,  17, 294, 113,\n",
       "       260, 276, 204,  61,  92,  50, 234,  27, 110,  21, 284,  88, 103,\n",
       "       122, 167, 261, 127, 236, 194,  42, 224,  24,  41, 221,  34,  60,\n",
       "       154, 266, 240, 287,  12, 296, 171, 125,  40, 254, 108,  51,  66,\n",
       "       302, 100, 145, 252,  13,  91, 297, 239, 186,  39,  67, 132, 111,\n",
       "       165,  32, 256, 216,  94, 202, 117, 189,  53,  35, 238, 144, 245,\n",
       "        58,  70, 160, 288, 251, 269, 155, 107, 262,  89,  23, 181, 289,\n",
       "       139, 180,  93, 201, 114, 195, 249, 135, 136, 237,   3,  28, 196,\n",
       "        98,   4,  33, 140, 115,  84, 118, 265, 230, 206,  77,  19, 298,\n",
       "       259, 214, 291, 166, 247, 197, 137,   6,  99, 149, 190, 120,  56,\n",
       "        73, 304, 173, 106,  15, 184,  38, 225, 228,  79, 126,  37,  52,\n",
       "       205, 248, 270,  82, 134,  18, 273, 175,  86, 176, 303, 300,  20,\n",
       "       185, 170, 257, 281,  81, 182, 280, 152, 164, 229,  97, 277, 217,\n",
       "       169,  80, 278, 177, 226, 131, 130, 285, 255, 172,  78, 213, 299,\n",
       "       275,  90, 200, 146,  72,  45,  47,  46, 246,  96, 138,   5, 290,\n",
       "       179, 178, 227, 191, 198, 168,  83,  26, 199,  71, 147, 264, 102,\n",
       "        43, 153, 301, 119, 159,  69])"
      ]
     },
     "execution_count": 27,
     "metadata": {},
     "output_type": "execute_result"
    }
   ],
   "source": [
    "datas['car name'].unique()"
   ]
  },
  {
   "cell_type": "code",
   "execution_count": 28,
   "metadata": {},
   "outputs": [
    {
     "data": {
      "text/plain": [
       "array([[  8. , 307. , 130. , ...,  12. ,  70. ,   1. ],\n",
       "       [  8. , 350. , 165. , ...,  11.5,  70. ,   1. ],\n",
       "       [  8. , 318. , 150. , ...,  11. ,  70. ,   1. ],\n",
       "       ...,\n",
       "       [  4. , 135. ,  84. , ...,  11.6,  82. ,   1. ],\n",
       "       [  4. , 120. ,  79. , ...,  18.6,  82. ,   1. ],\n",
       "       [  4. , 119. ,  82. , ...,  19.4,  82. ,   1. ]])"
      ]
     },
     "execution_count": 28,
     "metadata": {},
     "output_type": "execute_result"
    }
   ],
   "source": [
    "x = datas.iloc[:,1:8].values\n",
    "x"
   ]
  },
  {
   "cell_type": "code",
   "execution_count": 29,
   "metadata": {},
   "outputs": [],
   "source": [
    "y = datas.iloc[:,0].values"
   ]
  },
  {
   "cell_type": "code",
   "execution_count": 30,
   "metadata": {},
   "outputs": [
    {
     "data": {
      "text/plain": [
       "array([18. , 15. , 18. , 16. , 17. , 15. , 14. , 14. , 14. , 15. , 15. ,\n",
       "       14. , 15. , 14. , 24. , 22. , 18. , 21. , 27. , 26. , 25. , 24. ,\n",
       "       25. , 26. , 21. , 10. , 10. , 11. ,  9. , 27. , 28. , 25. , 25. ,\n",
       "       19. , 16. , 17. , 19. , 18. , 14. , 14. , 14. , 14. , 12. , 13. ,\n",
       "       13. , 18. , 22. , 19. , 18. , 23. , 28. , 30. , 30. , 31. , 35. ,\n",
       "       27. , 26. , 24. , 25. , 23. , 20. , 21. , 13. , 14. , 15. , 14. ,\n",
       "       17. , 11. , 13. , 12. , 13. , 19. , 15. , 13. , 13. , 14. , 18. ,\n",
       "       22. , 21. , 26. , 22. , 28. , 23. , 28. , 27. , 13. , 14. , 13. ,\n",
       "       14. , 15. , 12. , 13. , 13. , 14. , 13. , 12. , 13. , 18. , 16. ,\n",
       "       18. , 18. , 23. , 26. , 11. , 12. , 13. , 12. , 18. , 20. , 21. ,\n",
       "       22. , 18. , 19. , 21. , 26. , 15. , 16. , 29. , 24. , 20. , 19. ,\n",
       "       15. , 24. , 20. , 11. , 20. , 21. , 19. , 15. , 31. , 26. , 32. ,\n",
       "       25. , 16. , 16. , 18. , 16. , 13. , 14. , 14. , 14. , 29. , 26. ,\n",
       "       26. , 31. , 32. , 28. , 24. , 26. , 24. , 26. , 31. , 19. , 18. ,\n",
       "       15. , 15. , 16. , 15. , 16. , 14. , 17. , 16. , 15. , 18. , 21. ,\n",
       "       20. , 13. , 29. , 23. , 20. , 23. , 24. , 25. , 24. , 18. , 29. ,\n",
       "       19. , 23. , 23. , 22. , 25. , 33. , 28. , 25. , 25. , 26. , 27. ,\n",
       "       17.5, 16. , 15.5, 14.5, 22. , 22. , 24. , 22.5, 29. , 24.5, 29. ,\n",
       "       33. , 20. , 18. , 18.5, 17.5, 29.5, 32. , 28. , 26.5, 20. , 13. ,\n",
       "       19. , 19. , 16.5, 16.5, 13. , 13. , 13. , 31.5, 30. , 36. , 25.5,\n",
       "       33.5, 17.5, 17. , 15.5, 15. , 17.5, 20.5, 19. , 18.5, 16. , 15.5,\n",
       "       15.5, 16. , 29. , 24.5, 26. , 25.5, 30.5, 33.5, 30. , 30.5, 22. ,\n",
       "       21.5, 21.5, 43.1, 36.1, 32.8, 39.4, 36.1, 19.9, 19.4, 20.2, 19.2,\n",
       "       20.5, 20.2, 25.1, 20.5, 19.4, 20.6, 20.8, 18.6, 18.1, 19.2, 17.7,\n",
       "       18.1, 17.5, 30. , 27.5, 27.2, 30.9, 21.1, 23.2, 23.8, 23.9, 20.3,\n",
       "       17. , 21.6, 16.2, 31.5, 29.5, 21.5, 19.8, 22.3, 20.2, 20.6, 17. ,\n",
       "       17.6, 16.5, 18.2, 16.9, 15.5, 19.2, 18.5, 31.9, 34.1, 35.7, 27.4,\n",
       "       25.4, 23. , 27.2, 23.9, 34.2, 34.5, 31.8, 37.3, 28.4, 28.8, 26.8,\n",
       "       33.5, 41.5, 38.1, 32.1, 37.2, 28. , 26.4, 24.3, 19.1, 34.3, 29.8,\n",
       "       31.3, 37. , 32.2, 46.6, 27.9, 40.8, 44.3, 43.4, 36.4, 30. , 44.6,\n",
       "       40.9, 33.8, 29.8, 32.7, 23.7, 35. , 23.6, 32.4, 27.2, 26.6, 25.8,\n",
       "       23.5, 30. , 39.1, 39. , 35.1, 32.3, 37. , 37.7, 34.1, 34.7, 34.4,\n",
       "       29.9, 33. , 34.5, 33.7, 32.4, 32.9, 31.6, 28.1, 30.7, 25.4, 24.2,\n",
       "       22.4, 26.6, 20.2, 17.6, 28. , 27. , 34. , 31. , 29. , 27. , 24. ,\n",
       "       23. , 36. , 37. , 31. , 38. , 36. , 36. , 36. , 34. , 38. , 32. ,\n",
       "       38. , 25. , 38. , 26. , 22. , 32. , 36. , 27. , 27. , 44. , 32. ,\n",
       "       28. , 31. ])"
      ]
     },
     "execution_count": 30,
     "metadata": {},
     "output_type": "execute_result"
    }
   ],
   "source": [
    "y"
   ]
  },
  {
   "cell_type": "code",
   "execution_count": 31,
   "metadata": {},
   "outputs": [],
   "source": [
    "from sklearn.model_selection import train_test_split\n",
    "x_train,x_test,y_train,y_test = train_test_split(x,y,test_size=0.2,random_state=0)"
   ]
  },
  {
   "cell_type": "code",
   "execution_count": 32,
   "metadata": {},
   "outputs": [
    {
     "data": {
      "text/plain": [
       "(398, 7)"
      ]
     },
     "execution_count": 32,
     "metadata": {},
     "output_type": "execute_result"
    }
   ],
   "source": [
    "x.shape"
   ]
  },
  {
   "cell_type": "code",
   "execution_count": 33,
   "metadata": {},
   "outputs": [
    {
     "data": {
      "text/plain": [
       "array([[  8. , 318. , 150. , ...,  13.5,  72. ,   1. ],\n",
       "       [  4. ,  97. ,  60. , ...,  19. ,  71. ,   2. ],\n",
       "       [  4. ,  97. ,  78. , ...,  15.8,  80. ,   2. ],\n",
       "       ...,\n",
       "       [  4. ,  68. ,  49. , ...,  19.5,  73. ,   2. ],\n",
       "       [  6. , 250. , 100. , ...,  15. ,  71. ,   1. ],\n",
       "       [  4. ,  90. ,  71. , ...,  16.5,  75. ,   2. ]])"
      ]
     },
     "execution_count": 33,
     "metadata": {},
     "output_type": "execute_result"
    }
   ],
   "source": [
    "x_train"
   ]
  },
  {
   "cell_type": "code",
   "execution_count": 34,
   "metadata": {},
   "outputs": [],
   "source": [
    "from sklearn.preprocessing import StandardScaler\n",
    "sd = StandardScaler()\n",
    "x_train = sd.fit_transform(x_train)\n",
    "x_test = sd.fit_transform(x_test)"
   ]
  },
  {
   "cell_type": "code",
   "execution_count": 35,
   "metadata": {},
   "outputs": [
    {
     "data": {
      "text/plain": [
       "array([[ 1.49526939,  1.22961301,  1.24359144, ..., -0.79520768,\n",
       "        -1.13752513, -0.73301171],\n",
       "       [-0.85285735, -0.92367663, -1.16092059, ...,  1.24411524,\n",
       "        -1.41177304,  0.5068698 ],\n",
       "       [-0.85285735, -0.92367663, -0.68001818, ...,  0.05760009,\n",
       "         1.05645814,  0.5068698 ],\n",
       "       ...,\n",
       "       [-0.85285735, -1.206235  , -1.45480539, ...,  1.42950823,\n",
       "        -0.86327722,  0.5068698 ],\n",
       "       [ 0.32120602,  0.56706235, -0.09224857, ..., -0.2390287 ,\n",
       "        -1.41177304, -0.73301171],\n",
       "       [-0.85285735, -0.99188037, -0.86703579, ...,  0.31715028,\n",
       "        -0.31478141,  0.5068698 ]])"
      ]
     },
     "execution_count": 35,
     "metadata": {},
     "output_type": "execute_result"
    }
   ],
   "source": [
    "x_train"
   ]
  },
  {
   "cell_type": "code",
   "execution_count": 36,
   "metadata": {},
   "outputs": [
    {
     "data": {
      "text/plain": [
       "array([15. , 27. , 34.3, 26. , 31.6, 33.8, 29. , 18.1, 27.2, 38. , 26. ,\n",
       "       14. , 22. , 31. , 36.4, 17.6, 17.7, 28. , 20.8, 14. , 20.2, 32.8,\n",
       "       22.3, 28. , 37. , 27. , 23.2, 13. , 15. , 22. , 24. , 29. , 13. ,\n",
       "       31.8, 23. , 25.5, 29.9, 13. , 17.5, 46.6, 15.5, 32.9, 14. , 25. ,\n",
       "       19.4, 15. , 32.4, 31.5, 27. , 19.8, 17. , 33.5, 21. , 23. , 38.1,\n",
       "       44. , 40.8, 21. , 29. , 17.5, 28. , 26. , 26. , 11. , 37.7, 24.2,\n",
       "       16. , 16. , 30. , 19. , 27. , 19. , 16. , 16. , 20.3, 21. , 33.5,\n",
       "       23. , 21.5, 16. , 19. , 37. , 15. , 16. , 26. , 18. , 13. , 21. ,\n",
       "       29. , 22. , 33. , 22. , 16. , 36. , 20. , 22. , 31.3, 14.5, 29.8,\n",
       "       13. , 13. , 36. , 20.5, 25. , 27. , 33. , 16.5, 20.6, 30. , 43.4,\n",
       "       34.7, 11. , 18. , 13. , 16. , 19. , 23. , 25.5, 14. , 24.5, 30. ,\n",
       "       25.8, 38. , 28.8, 26.6, 17. , 32. , 18.1, 11. , 21. , 36. , 13. ,\n",
       "       30. , 31. , 14. , 18. , 13. , 21.6, 28. , 23.8, 14. , 27. , 20.2,\n",
       "       26. , 39.4, 19.9, 19. , 14. , 23.6, 13. , 38. , 30.5, 18.5, 17. ,\n",
       "       12. , 16. , 28. , 15.5, 32. , 24. , 25.1, 16. , 13. , 24. , 22. ,\n",
       "       24. , 15. , 19. , 18. , 27.2, 14. , 21. , 44.3, 28. , 31.5, 19.2,\n",
       "       14. , 30.5, 29.8, 36.1, 26.8, 26. , 20.5, 32.1, 16. , 17. , 20. ,\n",
       "       22. , 25. , 23.9, 31. , 39. , 28. , 34.5, 22. , 20.6, 14. , 25.4,\n",
       "       14. , 30. , 19. , 36. , 25. , 14. , 21.1, 28. , 19. , 19.1, 24.3,\n",
       "       44.6, 20. , 17. , 13. , 34.2, 26. , 17.5, 26. , 13. , 18. , 18.5,\n",
       "       36. , 16. , 38. , 23. , 20.5, 13. , 28. , 12. , 34.1, 20. , 12. ,\n",
       "       28.4, 18. , 20. , 29.5, 19. , 26. , 26. , 25. , 32. , 33.7, 28. ,\n",
       "       19.2, 29.5, 27. , 15. , 39.1, 26.6, 13. , 23. , 27.5, 20. , 19.2,\n",
       "       24. , 32.2, 19.4, 33. , 12. , 13. , 17.6, 23.9, 34.4, 14. , 31. ,\n",
       "       35.1, 15. , 15.5,  9. , 25. , 18. , 31. , 43.1, 17.5, 25. , 25. ,\n",
       "       19. , 26. , 31. , 18.2, 30.7, 24. , 17. , 27. , 23. , 18. , 27.2,\n",
       "       35. , 29. , 21.5, 15. , 17.5, 15. , 32.7, 10. , 20. , 32.4, 34. ,\n",
       "       18. , 32. , 14. , 24. , 26.4, 14. , 13. , 13. , 18.5, 21.5, 16.2,\n",
       "       16.5, 15. , 28.1, 29. , 20.2, 27.9, 22. , 29. , 19. , 25. ])"
      ]
     },
     "execution_count": 36,
     "metadata": {},
     "output_type": "execute_result"
    }
   ],
   "source": [
    "y_train"
   ]
  },
  {
   "cell_type": "code",
   "execution_count": 60,
   "metadata": {},
   "outputs": [
    {
     "data": {
      "text/plain": [
       "RandomForestRegressor(n_estimators=50, random_state=0)"
      ]
     },
     "execution_count": 60,
     "metadata": {},
     "output_type": "execute_result"
    }
   ],
   "source": [
    "from sklearn.ensemble import RandomForestRegressor\n",
    "d = RandomForestRegressor (n_estimators=30,random_state = 0)\n",
    "d.fit(x_train,y_train)\n"
   ]
  },
  {
   "cell_type": "code",
   "execution_count": 61,
   "metadata": {},
   "outputs": [
    {
     "data": {
      "text/plain": [
       "array([14.47 , 23.93 , 14.22 , 20.904, 18.346, 30.39 , 34.754, 20.85 ,\n",
       "       16.002, 26.502, 37.346, 36.88 , 19.41 , 26.88 , 16.706, 33.296,\n",
       "       28.272, 27.452, 17.312, 36.572, 16.264, 23.43 , 23.242, 20.442,\n",
       "       33.398, 26.774, 33.91 , 30.834, 32.034, 16.732, 20.154, 32.852,\n",
       "       19.398, 34.77 , 21.624, 24.762, 19.578, 16.946, 35.122, 12.52 ,\n",
       "       13.6  , 15.1  , 28.66 , 33.012, 29.124, 22.878, 20.982, 16.602,\n",
       "       23.532, 29.95 , 34.93 , 26.53 , 17.388, 27.42 , 15.74 , 12.96 ,\n",
       "       18.84 , 26.532, 32.002, 15.788, 20.754, 26.06 , 19.88 , 21.496,\n",
       "       13.5  , 15.1  , 14.12 , 18.974, 24.138, 14.07 , 34.74 , 13.45 ,\n",
       "       23.228, 18.714, 23.778, 31.704, 28.842, 31.422, 32.038, 14.37 ])"
      ]
     },
     "execution_count": 61,
     "metadata": {},
     "output_type": "execute_result"
    }
   ],
   "source": [
    "r = d.predict(x_test)\n",
    "r"
   ]
  },
  {
   "cell_type": "code",
   "execution_count": 62,
   "metadata": {},
   "outputs": [],
   "source": [
    "import pickle\n",
    "pickle.dump(d,open('regression.pkl','wb'))"
   ]
  },
  {
   "cell_type": "raw",
   "metadata": {},
   "source": [
    "import seaborn as sns\n",
    "sns.pairplot(data=datas)\n"
   ]
  },
  {
   "cell_type": "code",
   "execution_count": 63,
   "metadata": {},
   "outputs": [
    {
     "data": {
      "text/plain": [
       "0.897271691430665"
      ]
     },
     "execution_count": 63,
     "metadata": {},
     "output_type": "execute_result"
    }
   ],
   "source": [
    "from sklearn.metrics import r2_score\n",
    "accuracy = r2_score(y_test,r)\n",
    "accuracy"
   ]
  },
  {
   "cell_type": "code",
   "execution_count": 58,
   "metadata": {},
   "outputs": [
    {
     "data": {
      "text/plain": [
       "array([17.62333333])"
      ]
     },
     "execution_count": 58,
     "metadata": {},
     "output_type": "execute_result"
    }
   ],
   "source": [
    "r =d.predict(np.array([[8,307,130,3504,12,70,1]]))\n",
    "r"
   ]
  },
  {
   "cell_type": "code",
   "execution_count": 59,
   "metadata": {},
   "outputs": [
    {
     "data": {
      "text/plain": [
       "SVR(kernel='linear')"
      ]
     },
     "execution_count": 59,
     "metadata": {},
     "output_type": "execute_result"
    }
   ],
   "source": [
    "from sklearn.svm import SVR\n",
    "svm = SVR(kernel = 'linear')\n",
    "svm.fit(x_train,y_train)"
   ]
  },
  {
   "cell_type": "code",
   "execution_count": 44,
   "metadata": {},
   "outputs": [],
   "source": [
    "y_pre = svm.predict(x_test)"
   ]
  },
  {
   "cell_type": "code",
   "execution_count": 45,
   "metadata": {},
   "outputs": [],
   "source": [
    "from sklearn.metrics import r2_score\n",
    "accurac = r2_score(y_test,y_pre)"
   ]
  },
  {
   "cell_type": "code",
   "execution_count": 46,
   "metadata": {},
   "outputs": [
    {
     "data": {
      "text/plain": [
       "0.820840225488712"
      ]
     },
     "execution_count": 46,
     "metadata": {},
     "output_type": "execute_result"
    }
   ],
   "source": [
    "accurac"
   ]
  }
 ],
 "metadata": {
  "kernelspec": {
   "display_name": "Python 3",
   "language": "python",
   "name": "python3"
  },
  "language_info": {
   "codemirror_mode": {
    "name": "ipython",
    "version": 3
   },
   "file_extension": ".py",
   "mimetype": "text/x-python",
   "name": "python",
   "nbconvert_exporter": "python",
   "pygments_lexer": "ipython3",
   "version": "3.8.8"
  }
 },
 "nbformat": 4,
 "nbformat_minor": 4
}
